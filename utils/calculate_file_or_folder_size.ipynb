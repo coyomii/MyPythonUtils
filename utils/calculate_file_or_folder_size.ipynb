{
 "cells": [
  {
   "cell_type": "code",
   "execution_count": null,
   "metadata": {},
   "outputs": [],
   "source": [
    "import subprocess\n",
    "import matplotlib.pyplot as plt\n",
    "from collections import OrderedDict\n",
    "import pandas as pd"
   ]
  },
  {
   "cell_type": "markdown",
   "metadata": {},
   "source": [
    "## 获取文件夹大小"
   ]
  },
  {
   "cell_type": "code",
   "execution_count": null,
   "metadata": {},
   "outputs": [],
   "source": [
    "def get_folder_sizes_windows(base_path):\n",
    "    \"\"\"\n",
    "    使用 PowerShell 命令统计各文件夹大小，并处理空文件夹情况\n",
    "    \"\"\"\n",
    "    folder_sizes = {}\n",
    "    # PowerShell 命令中增加了对空文件夹的处理\n",
    "    powershell_command = (\n",
    "        \"[Console]::OutputEncoding = [Text.UTF8Encoding]::UTF8; \"\n",
    "        f\"Get-ChildItem '{base_path}' -Directory -Recurse| ForEach-Object {{\"\n",
    "        f\"  $folderPath = $_.FullName; \"\n",
    "        f\"  $files = Get-ChildItem $folderPath -Recurse -File -ErrorAction SilentlyContinue; \"\n",
    "        f\"  $size = if ($files) {{ ($files | Measure-Object -Property Length -Sum).Sum }} else {{ 0 }}; \"\n",
    "        f\"  $folderPath, $size }}\"\n",
    "    )\n",
    "    # command = [\"powershell\", \"-Command\", powershell_command]\n",
    "    command = [\"powershell\", \"-ExecutionPolicy\", \"Bypass\", \"-Command\", powershell_command]\n",
    "    process = subprocess.Popen(command, stdout=subprocess.PIPE, stderr=subprocess.PIPE)\n",
    "    stdout, stderr = process.communicate()\n",
    "\n",
    "    if stderr:\n",
    "        print(f\"错误: {stderr.decode('utf-8', errors='replace')}\")\n",
    "\n",
    "    output = stdout.decode('utf-8', errors='replace').splitlines()\n",
    "\n",
    "    for i in range(0, len(output), 2):\n",
    "        try:\n",
    "            folder = output[i]\n",
    "            size = int(output[i + 1])\n",
    "            folder_sizes[folder] = size\n",
    "        except (IndexError, ValueError):\n",
    "            print(f\"跳过行由于解析错误: {output[i:i + 2]}\")\n",
    "\n",
    "    return folder_sizes\n",
    "\n",
    "def convert_size_to_gb(size_bytes):\n",
    "    \"\"\"\n",
    "    将字节大小转换为 GB\n",
    "    \"\"\"\n",
    "    return size_bytes / (1024 ** 3)\n",
    "\n",
    "def plot_bar_chart(data):\n",
    "    \"\"\"\n",
    "    绘制条形图\n",
    "    \"\"\"\n",
    "    labels = list(data.keys())\n",
    "    sizes = list(data.values())\n",
    "    plt.rcParams['font.sans-serif']=['SimHei'] # 用黑体显示中文\n",
    "    plt.figure(figsize=(120, 80))\n",
    "    plt.barh(labels, sizes, color='skyblue')\n",
    "    plt.xlabel('大小 (GB)')\n",
    "    plt.ylabel('文件夹')\n",
    "    plt.title('各文件夹大小')\n",
    "    plt.gca().invert_yaxis()  # 使最大的在上方\n",
    "    plt.tight_layout()\n",
    "    plt.show()\n",
    "\n",
    "# 修改为你要统计的根目录路径\n",
    "base_path = r'your/path'\n",
    "folder_sizes_bytes = get_folder_sizes_windows(base_path)\n",
    "\n",
    "# 转换为以 GB 为单位的数值，并按大小排序\n",
    "folder_sizes_gb = {k: convert_size_to_gb(v) for k, v in folder_sizes_bytes.items()}\n",
    "sorted_folder_sizes = OrderedDict(sorted(folder_sizes_gb.items(), key=lambda x: x[1], reverse=True))\n",
    "\n",
    "# 绘制条形图\n",
    "# plot_bar_chart(sorted_folder_sizes)"
   ]
  },
  {
   "cell_type": "code",
   "execution_count": null,
   "metadata": {},
   "outputs": [],
   "source": [
    "sorted_folder_sizes"
   ]
  },
  {
   "cell_type": "code",
   "execution_count": null,
   "metadata": {},
   "outputs": [],
   "source": [
    "key = list(sorted_folder_sizes.keys())\n",
    "value = list(sorted_folder_sizes.values())"
   ]
  },
  {
   "cell_type": "code",
   "execution_count": null,
   "metadata": {},
   "outputs": [],
   "source": [
    "def plot_bar_chart(data):\n",
    "\n",
    "    labels = list(data.keys())\n",
    "    sizes = list(data.values())\n",
    "\n",
    "    plt.figure(figsize=(120, 80), dpi=100)\n",
    "    plt.barh(labels, sizes, color='skyblue')\n",
    "    plt.xlabel('大小 (GB)')\n",
    "    plt.ylabel('文件夹')\n",
    "    plt.title('各文件夹大小')\n",
    "    plt.gca().invert_yaxis()  # 使最大的在上方\n",
    "    plt.tight_layout()\n",
    "    plt.show()\n",
    "\n",
    "\n",
    "plot_bar_chart(sorted_folder_sizes)"
   ]
  },
  {
   "cell_type": "code",
   "execution_count": null,
   "metadata": {},
   "outputs": [],
   "source": [
    "df = pd.DataFrame(list(sorted_folder_sizes.items()), columns=['文件夹路径', '大小 (GB)'])\n",
    "\n",
    "df.to_excel(\"文件夹大小.xlsx\", index=False)"
   ]
  },
  {
   "cell_type": "code",
   "execution_count": null,
   "metadata": {},
   "outputs": [],
   "source": []
  },
  {
   "cell_type": "markdown",
   "metadata": {},
   "source": [
    "## 获取每个文件的大小"
   ]
  },
  {
   "cell_type": "code",
   "execution_count": null,
   "metadata": {},
   "outputs": [],
   "source": [
    "import subprocess\n",
    "from collections import OrderedDict\n",
    "import matplotlib.pyplot as plt\n",
    "import pandas as pd\n",
    "\n",
    "def get_files_sizes_windows(base_path):\n",
    "    \"\"\"\n",
    "    使用 PowerShell 命令获取每个文件的大小和路径\n",
    "    \"\"\"\n",
    "    file_sizes = []\n",
    "    powershell_command = (\n",
    "        \"[Console]::OutputEncoding = [Text.UTF8Encoding]::UTF8; \"\n",
    "        f\"Get-ChildItem '{base_path}' -Recurse -File | ForEach-Object {{\"\n",
    "        f\"  $_.FullName, $_.Length }}\"\n",
    "    )\n",
    "    # command = [\"powershell\", \"-Command\", powershell_command]\n",
    "    command = [\"powershell\", \"-ExecutionPolicy\", \"Bypass\", \"-Command\", powershell_command]\n",
    "    process = subprocess.Popen(command, stdout=subprocess.PIPE, stderr=subprocess.PIPE)\n",
    "    stdout, stderr = process.communicate()\n",
    "\n",
    "    if stderr:\n",
    "        print(f\"错误: {stderr.decode('utf-8', errors='replace')}\")\n",
    "\n",
    "    output = stdout.decode('utf-8', errors='replace').splitlines()\n",
    "\n",
    "    for i in range(0, len(output), 2):\n",
    "        try:\n",
    "            file_path = output[i]\n",
    "            size = int(output[i + 1])\n",
    "            file_sizes.append((file_path, size))\n",
    "        except (IndexError, ValueError):\n",
    "            print(f\"跳过行由于解析错误: {output[i:i + 2]}\")\n",
    "\n",
    "    return file_sizes\n",
    "\n",
    "def convert_size_to_gb(size_bytes):\n",
    "    \"\"\"\n",
    "    将字节大小转换为 GB\n",
    "    \"\"\"\n",
    "    return size_bytes / (1024 ** 3)\n",
    "\n",
    "def plot_bar_chart(data):\n",
    "    \"\"\"\n",
    "    绘制条形图\n",
    "    \"\"\"\n",
    "    labels = list(data.keys())\n",
    "    sizes = list(data.values())\n",
    "    plt.rcParams['font.sans-serif']=['SimHei'] # 用黑体显示中文\n",
    "    plt.figure(figsize=(120, 80))\n",
    "    plt.barh(labels, sizes, color='skyblue')\n",
    "    plt.xlabel('大小 (GB)')\n",
    "    plt.ylabel('文件')\n",
    "    plt.title('各文件大小')\n",
    "    plt.gca().invert_yaxis()  # 使最大的在上方\n",
    "    plt.tight_layout()\n",
    "    plt.show()\n",
    "\n",
    "# 修改为你要统计的根目录路径\n",
    "base_path = r'your/path'\n",
    "\n",
    "file_sizes_bytes = get_files_sizes_windows(base_path)\n",
    "\n",
    "# 转换为以 GB 为单位的数值，并按大小排序\n",
    "file_sizes_gb = {path: convert_size_to_gb(size) for path, size in file_sizes_bytes}\n",
    "sorted_file_sizes = OrderedDict(sorted(file_sizes_gb.items(), key=lambda x: x[1], reverse=True))\n",
    "sorted_file_sizes\n",
    "# 绘制条形图\n",
    "# plot_bar_chart(sorted_file_sizes)\n"
   ]
  },
  {
   "cell_type": "code",
   "execution_count": null,
   "metadata": {},
   "outputs": [],
   "source": [
    "# filtered_df = df[df['文件夹路径'].str.contains('20240809', na=False)]\n",
    "\n",
    "# filtered_df"
   ]
  },
  {
   "cell_type": "code",
   "execution_count": null,
   "metadata": {},
   "outputs": [],
   "source": [
    "df.to_excel(\"51.xlsx\", index=False)"
   ]
  },
  {
   "cell_type": "code",
   "execution_count": null,
   "metadata": {},
   "outputs": [],
   "source": [
    "df = pd.DataFrame(list(sorted_file_sizes.items()), columns=['文件夹路径', '大小 (GB)'])\n",
    "\n",
    "\n",
    "df.to_csv(\"111.csv\", index=False)"
   ]
  },
  {
   "cell_type": "code",
   "execution_count": null,
   "metadata": {},
   "outputs": [],
   "source": []
  },
  {
   "cell_type": "markdown",
   "metadata": {},
   "source": [
    "##### 另一种方法，没有上面的快"
   ]
  },
  {
   "cell_type": "code",
   "execution_count": null,
   "metadata": {},
   "outputs": [],
   "source": [
    "from pathlib import Path\n",
    "\n",
    "def get_folder_sizes(base_path, max_depth=3):\n",
    "    folder_sizes = {}\n",
    "    base_path = Path(base_path)\n",
    "\n",
    "    def get_size(path):\n",
    "        total_size = 0\n",
    "        for file in path.rglob('*'):\n",
    "            if file.is_file():\n",
    "                total_size += file.stat().st_size\n",
    "        return total_size\n",
    "\n",
    "    def process_folder(path, depth=1):\n",
    "        if depth <= max_depth:\n",
    "            folder_sizes[str(path)] = get_size(path)\n",
    "        if depth < max_depth:\n",
    "            for subfolder in path.glob('*/'):\n",
    "                process_folder(subfolder, depth + 1)\n",
    "\n",
    "    process_folder(base_path)\n",
    "    return folder_sizes\n",
    "\n",
    "\n",
    "base_path = r'your/path'\n",
    "folder_sizes_bytes = get_folder_sizes(base_path)\n",
    "\n",
    "# 转换为以 GB 为单位的数值，并按大小排序\n",
    "folder_sizes_gb = {k: convert_size_to_gb(v) for k, v in folder_sizes_bytes.items()}\n",
    "sorted_folder_sizes1 = OrderedDict(sorted(folder_sizes_gb.items(), key=lambda x: x[1], reverse=True))"
   ]
  },
  {
   "cell_type": "code",
   "execution_count": null,
   "metadata": {},
   "outputs": [],
   "source": [
    "sorted_folder_sizes1"
   ]
  },
  {
   "cell_type": "code",
   "execution_count": null,
   "metadata": {},
   "outputs": [],
   "source": []
  }
 ],
 "metadata": {
  "kernelspec": {
   "display_name": "base",
   "language": "python",
   "name": "python3"
  },
  "language_info": {
   "codemirror_mode": {
    "name": "ipython",
    "version": 3
   },
   "file_extension": ".py",
   "mimetype": "text/x-python",
   "name": "python",
   "nbconvert_exporter": "python",
   "pygments_lexer": "ipython3",
   "version": "3.9.19"
  }
 },
 "nbformat": 4,
 "nbformat_minor": 2
}
